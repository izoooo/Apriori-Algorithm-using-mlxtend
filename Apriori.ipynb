{
 "cells": [
  {
   "cell_type": "markdown",
   "metadata": {},
   "source": [
    "## Goal : Transform the given dataset in the form of input to a Apriori Algorithm\n",
    "### Converting the data into a sparse matrix of the items purchased at the grocery shop\n",
    "**_Prepared by Aishwarya G (17BCS050)_**"
   ]
  },
  {
   "cell_type": "markdown",
   "metadata": {},
   "source": [
    "## Imports"
   ]
  },
  {
   "cell_type": "code",
   "execution_count": 1,
   "metadata": {},
   "outputs": [],
   "source": [
    "#Dataframe usage\n",
    "import pandas as pd "
   ]
  },
  {
   "cell_type": "code",
   "execution_count": 2,
   "metadata": {},
   "outputs": [],
   "source": [
    "# numerical calculations\n",
    "import numpy as np"
   ]
  },
  {
   "cell_type": "code",
   "execution_count": 3,
   "metadata": {},
   "outputs": [],
   "source": [
    "# Bag of words model - sparse matrix creation\n",
    "from sklearn.feature_extraction.text import CountVectorizer"
   ]
  },
  {
   "cell_type": "code",
   "execution_count": 4,
   "metadata": {},
   "outputs": [],
   "source": [
    "# Import Apriori\n",
    "from mlxtend.frequent_patterns import apriori\n",
    "from mlxtend.frequent_patterns import association_rules"
   ]
  },
  {
   "cell_type": "code",
   "execution_count": 5,
   "metadata": {},
   "outputs": [],
   "source": [
    "# plotting \n",
    "import matplotlib.pyplot as plt"
   ]
  },
  {
   "cell_type": "code",
   "execution_count": 6,
   "metadata": {},
   "outputs": [],
   "source": [
    "# regular expressions\n",
    "import re"
   ]
  },
  {
   "cell_type": "markdown",
   "metadata": {},
   "source": [
    "## Reading the Original file"
   ]
  },
  {
   "cell_type": "code",
   "execution_count": 7,
   "metadata": {},
   "outputs": [],
   "source": [
    "# Reading the csv file using pandas\n",
    "# ignoring the 1st column as it is not desirable\n",
    "df = pd.read_csv(\"groceries - groceries.csv\").iloc[:,1:]"
   ]
  },
  {
   "cell_type": "code",
   "execution_count": 8,
   "metadata": {
    "scrolled": true
   },
   "outputs": [
    {
     "data": {
      "text/html": [
       "<div>\n",
       "<style scoped>\n",
       "    .dataframe tbody tr th:only-of-type {\n",
       "        vertical-align: middle;\n",
       "    }\n",
       "\n",
       "    .dataframe tbody tr th {\n",
       "        vertical-align: top;\n",
       "    }\n",
       "\n",
       "    .dataframe thead th {\n",
       "        text-align: right;\n",
       "    }\n",
       "</style>\n",
       "<table border=\"1\" class=\"dataframe\">\n",
       "  <thead>\n",
       "    <tr style=\"text-align: right;\">\n",
       "      <th></th>\n",
       "      <th>Item 1</th>\n",
       "      <th>Item 2</th>\n",
       "      <th>Item 3</th>\n",
       "      <th>Item 4</th>\n",
       "      <th>Item 5</th>\n",
       "      <th>Item 6</th>\n",
       "      <th>Item 7</th>\n",
       "      <th>Item 8</th>\n",
       "      <th>Item 9</th>\n",
       "      <th>Item 10</th>\n",
       "      <th>...</th>\n",
       "      <th>Item 23</th>\n",
       "      <th>Item 24</th>\n",
       "      <th>Item 25</th>\n",
       "      <th>Item 26</th>\n",
       "      <th>Item 27</th>\n",
       "      <th>Item 28</th>\n",
       "      <th>Item 29</th>\n",
       "      <th>Item 30</th>\n",
       "      <th>Item 31</th>\n",
       "      <th>Item 32</th>\n",
       "    </tr>\n",
       "  </thead>\n",
       "  <tbody>\n",
       "    <tr>\n",
       "      <th>0</th>\n",
       "      <td>citrus fruit</td>\n",
       "      <td>semi-finished bread</td>\n",
       "      <td>margarine</td>\n",
       "      <td>ready soups</td>\n",
       "      <td>NaN</td>\n",
       "      <td>NaN</td>\n",
       "      <td>NaN</td>\n",
       "      <td>NaN</td>\n",
       "      <td>NaN</td>\n",
       "      <td>NaN</td>\n",
       "      <td>...</td>\n",
       "      <td>NaN</td>\n",
       "      <td>NaN</td>\n",
       "      <td>NaN</td>\n",
       "      <td>NaN</td>\n",
       "      <td>NaN</td>\n",
       "      <td>NaN</td>\n",
       "      <td>NaN</td>\n",
       "      <td>NaN</td>\n",
       "      <td>NaN</td>\n",
       "      <td>NaN</td>\n",
       "    </tr>\n",
       "    <tr>\n",
       "      <th>1</th>\n",
       "      <td>tropical fruit</td>\n",
       "      <td>yogurt</td>\n",
       "      <td>coffee</td>\n",
       "      <td>NaN</td>\n",
       "      <td>NaN</td>\n",
       "      <td>NaN</td>\n",
       "      <td>NaN</td>\n",
       "      <td>NaN</td>\n",
       "      <td>NaN</td>\n",
       "      <td>NaN</td>\n",
       "      <td>...</td>\n",
       "      <td>NaN</td>\n",
       "      <td>NaN</td>\n",
       "      <td>NaN</td>\n",
       "      <td>NaN</td>\n",
       "      <td>NaN</td>\n",
       "      <td>NaN</td>\n",
       "      <td>NaN</td>\n",
       "      <td>NaN</td>\n",
       "      <td>NaN</td>\n",
       "      <td>NaN</td>\n",
       "    </tr>\n",
       "    <tr>\n",
       "      <th>2</th>\n",
       "      <td>whole milk</td>\n",
       "      <td>NaN</td>\n",
       "      <td>NaN</td>\n",
       "      <td>NaN</td>\n",
       "      <td>NaN</td>\n",
       "      <td>NaN</td>\n",
       "      <td>NaN</td>\n",
       "      <td>NaN</td>\n",
       "      <td>NaN</td>\n",
       "      <td>NaN</td>\n",
       "      <td>...</td>\n",
       "      <td>NaN</td>\n",
       "      <td>NaN</td>\n",
       "      <td>NaN</td>\n",
       "      <td>NaN</td>\n",
       "      <td>NaN</td>\n",
       "      <td>NaN</td>\n",
       "      <td>NaN</td>\n",
       "      <td>NaN</td>\n",
       "      <td>NaN</td>\n",
       "      <td>NaN</td>\n",
       "    </tr>\n",
       "    <tr>\n",
       "      <th>3</th>\n",
       "      <td>pip fruit</td>\n",
       "      <td>yogurt</td>\n",
       "      <td>cream cheese</td>\n",
       "      <td>meat spreads</td>\n",
       "      <td>NaN</td>\n",
       "      <td>NaN</td>\n",
       "      <td>NaN</td>\n",
       "      <td>NaN</td>\n",
       "      <td>NaN</td>\n",
       "      <td>NaN</td>\n",
       "      <td>...</td>\n",
       "      <td>NaN</td>\n",
       "      <td>NaN</td>\n",
       "      <td>NaN</td>\n",
       "      <td>NaN</td>\n",
       "      <td>NaN</td>\n",
       "      <td>NaN</td>\n",
       "      <td>NaN</td>\n",
       "      <td>NaN</td>\n",
       "      <td>NaN</td>\n",
       "      <td>NaN</td>\n",
       "    </tr>\n",
       "    <tr>\n",
       "      <th>4</th>\n",
       "      <td>other vegetables</td>\n",
       "      <td>whole milk</td>\n",
       "      <td>condensed milk</td>\n",
       "      <td>long life bakery product</td>\n",
       "      <td>NaN</td>\n",
       "      <td>NaN</td>\n",
       "      <td>NaN</td>\n",
       "      <td>NaN</td>\n",
       "      <td>NaN</td>\n",
       "      <td>NaN</td>\n",
       "      <td>...</td>\n",
       "      <td>NaN</td>\n",
       "      <td>NaN</td>\n",
       "      <td>NaN</td>\n",
       "      <td>NaN</td>\n",
       "      <td>NaN</td>\n",
       "      <td>NaN</td>\n",
       "      <td>NaN</td>\n",
       "      <td>NaN</td>\n",
       "      <td>NaN</td>\n",
       "      <td>NaN</td>\n",
       "    </tr>\n",
       "  </tbody>\n",
       "</table>\n",
       "<p>5 rows × 32 columns</p>\n",
       "</div>"
      ],
      "text/plain": [
       "             Item 1               Item 2          Item 3  \\\n",
       "0      citrus fruit  semi-finished bread       margarine   \n",
       "1    tropical fruit               yogurt          coffee   \n",
       "2        whole milk                  NaN             NaN   \n",
       "3         pip fruit               yogurt    cream cheese   \n",
       "4  other vegetables           whole milk  condensed milk   \n",
       "\n",
       "                     Item 4 Item 5 Item 6 Item 7 Item 8 Item 9 Item 10  ...  \\\n",
       "0               ready soups    NaN    NaN    NaN    NaN    NaN     NaN  ...   \n",
       "1                       NaN    NaN    NaN    NaN    NaN    NaN     NaN  ...   \n",
       "2                       NaN    NaN    NaN    NaN    NaN    NaN     NaN  ...   \n",
       "3              meat spreads    NaN    NaN    NaN    NaN    NaN     NaN  ...   \n",
       "4  long life bakery product    NaN    NaN    NaN    NaN    NaN     NaN  ...   \n",
       "\n",
       "  Item 23 Item 24 Item 25 Item 26 Item 27 Item 28 Item 29 Item 30 Item 31  \\\n",
       "0     NaN     NaN     NaN     NaN     NaN     NaN     NaN     NaN     NaN   \n",
       "1     NaN     NaN     NaN     NaN     NaN     NaN     NaN     NaN     NaN   \n",
       "2     NaN     NaN     NaN     NaN     NaN     NaN     NaN     NaN     NaN   \n",
       "3     NaN     NaN     NaN     NaN     NaN     NaN     NaN     NaN     NaN   \n",
       "4     NaN     NaN     NaN     NaN     NaN     NaN     NaN     NaN     NaN   \n",
       "\n",
       "  Item 32  \n",
       "0     NaN  \n",
       "1     NaN  \n",
       "2     NaN  \n",
       "3     NaN  \n",
       "4     NaN  \n",
       "\n",
       "[5 rows x 32 columns]"
      ]
     },
     "execution_count": 8,
     "metadata": {},
     "output_type": "execute_result"
    }
   ],
   "source": [
    "# displaying the first five rows of the data frame\n",
    "df.head()"
   ]
  },
  {
   "cell_type": "code",
   "execution_count": 9,
   "metadata": {},
   "outputs": [
    {
     "name": "stdout",
     "output_type": "stream",
     "text": [
      "<class 'pandas.core.frame.DataFrame'>\n",
      "RangeIndex: 9835 entries, 0 to 9834\n",
      "Data columns (total 32 columns):\n",
      "Item 1     9835 non-null object\n",
      "Item 2     7676 non-null object\n",
      "Item 3     6033 non-null object\n",
      "Item 4     4734 non-null object\n",
      "Item 5     3729 non-null object\n",
      "Item 6     2874 non-null object\n",
      "Item 7     2229 non-null object\n",
      "Item 8     1684 non-null object\n",
      "Item 9     1246 non-null object\n",
      "Item 10    896 non-null object\n",
      "Item 11    650 non-null object\n",
      "Item 12    468 non-null object\n",
      "Item 13    351 non-null object\n",
      "Item 14    273 non-null object\n",
      "Item 15    196 non-null object\n",
      "Item 16    141 non-null object\n",
      "Item 17    95 non-null object\n",
      "Item 18    66 non-null object\n",
      "Item 19    52 non-null object\n",
      "Item 20    38 non-null object\n",
      "Item 21    29 non-null object\n",
      "Item 22    18 non-null object\n",
      "Item 23    14 non-null object\n",
      "Item 24    8 non-null object\n",
      "Item 25    7 non-null object\n",
      "Item 26    7 non-null object\n",
      "Item 27    6 non-null object\n",
      "Item 28    5 non-null object\n",
      "Item 29    4 non-null object\n",
      "Item 30    1 non-null object\n",
      "Item 31    1 non-null object\n",
      "Item 32    1 non-null object\n",
      "dtypes: object(32)\n",
      "memory usage: 2.4+ MB\n"
     ]
    }
   ],
   "source": [
    "# Gathering a basic knowledge about the dataset\n",
    "df.info()"
   ]
  },
  {
   "cell_type": "code",
   "execution_count": 10,
   "metadata": {},
   "outputs": [
    {
     "data": {
      "text/plain": [
       "Index(['Item 1', 'Item 2', 'Item 3', 'Item 4', 'Item 5', 'Item 6', 'Item 7',\n",
       "       'Item 8', 'Item 9', 'Item 10', 'Item 11', 'Item 12', 'Item 13',\n",
       "       'Item 14', 'Item 15', 'Item 16', 'Item 17', 'Item 18', 'Item 19',\n",
       "       'Item 20', 'Item 21', 'Item 22', 'Item 23', 'Item 24', 'Item 25',\n",
       "       'Item 26', 'Item 27', 'Item 28', 'Item 29', 'Item 30', 'Item 31',\n",
       "       'Item 32'],\n",
       "      dtype='object')"
      ]
     },
     "execution_count": 10,
     "metadata": {},
     "output_type": "execute_result"
    }
   ],
   "source": [
    "# displaying all the columns\n",
    "df.columns"
   ]
  },
  {
   "cell_type": "markdown",
   "metadata": {},
   "source": [
    "## Subsetting and Preprocessing the dataset"
   ]
  },
  {
   "cell_type": "code",
   "execution_count": 11,
   "metadata": {},
   "outputs": [
    {
     "data": {
      "text/plain": [
       "[['citrus_fruit', 'margarine', 'ready_soups', 'semifinished_bread'],\n",
       " ['coffee', 'tropical_fruit', 'yogurt'],\n",
       " ['whole_milk'],\n",
       " ['cream_cheese', 'meat_spreads', 'pip_fruit', 'yogurt'],\n",
       " ['condensed_milk',\n",
       "  'long_life_bakery_product',\n",
       "  'other_vegetables',\n",
       "  'whole_milk'],\n",
       " ['abrasive_cleaner', 'butter', 'rice', 'whole_milk', 'yogurt'],\n",
       " ['rollsbuns'],\n",
       " ['bottled_beer',\n",
       "  'liquor_appetizer',\n",
       "  'other_vegetables',\n",
       "  'rollsbuns',\n",
       "  'uhtmilk'],\n",
       " ['potted_plants'],\n",
       " ['cereals', 'whole_milk']]"
      ]
     },
     "execution_count": 11,
     "metadata": {},
     "output_type": "execute_result"
    }
   ],
   "source": [
    "# replacing space with underscore, converting item name to lower, \n",
    "#removing punctuation marks, ignoring nan objects\n",
    "modified_df = list()\n",
    "for row in df.values.tolist():\n",
    "    row = [re.sub(pattern=\"\\W+\", repl=\"\", \n",
    "                  string=str(x).replace(\" \", \"_\").lower()) for x in row if str(x) != 'nan']\n",
    "    modified_df += [sorted(row)]\n",
    "modified_df[:10]"
   ]
  },
  {
   "cell_type": "code",
   "execution_count": 12,
   "metadata": {},
   "outputs": [
    {
     "name": "stdout",
     "output_type": "stream",
     "text": [
      "(9835, 32)\n"
     ]
    },
    {
     "data": {
      "text/html": [
       "<div>\n",
       "<style scoped>\n",
       "    .dataframe tbody tr th:only-of-type {\n",
       "        vertical-align: middle;\n",
       "    }\n",
       "\n",
       "    .dataframe tbody tr th {\n",
       "        vertical-align: top;\n",
       "    }\n",
       "\n",
       "    .dataframe thead th {\n",
       "        text-align: right;\n",
       "    }\n",
       "</style>\n",
       "<table border=\"1\" class=\"dataframe\">\n",
       "  <thead>\n",
       "    <tr style=\"text-align: right;\">\n",
       "      <th></th>\n",
       "      <th>0</th>\n",
       "      <th>1</th>\n",
       "      <th>2</th>\n",
       "      <th>3</th>\n",
       "      <th>4</th>\n",
       "      <th>5</th>\n",
       "      <th>6</th>\n",
       "      <th>7</th>\n",
       "      <th>8</th>\n",
       "      <th>9</th>\n",
       "      <th>...</th>\n",
       "      <th>22</th>\n",
       "      <th>23</th>\n",
       "      <th>24</th>\n",
       "      <th>25</th>\n",
       "      <th>26</th>\n",
       "      <th>27</th>\n",
       "      <th>28</th>\n",
       "      <th>29</th>\n",
       "      <th>30</th>\n",
       "      <th>31</th>\n",
       "    </tr>\n",
       "  </thead>\n",
       "  <tbody>\n",
       "    <tr>\n",
       "      <th>0</th>\n",
       "      <td>citrus_fruit</td>\n",
       "      <td>margarine</td>\n",
       "      <td>ready_soups</td>\n",
       "      <td>semifinished_bread</td>\n",
       "      <td>None</td>\n",
       "      <td>None</td>\n",
       "      <td>None</td>\n",
       "      <td>None</td>\n",
       "      <td>None</td>\n",
       "      <td>None</td>\n",
       "      <td>...</td>\n",
       "      <td>None</td>\n",
       "      <td>None</td>\n",
       "      <td>None</td>\n",
       "      <td>None</td>\n",
       "      <td>None</td>\n",
       "      <td>None</td>\n",
       "      <td>None</td>\n",
       "      <td>None</td>\n",
       "      <td>None</td>\n",
       "      <td>None</td>\n",
       "    </tr>\n",
       "    <tr>\n",
       "      <th>1</th>\n",
       "      <td>coffee</td>\n",
       "      <td>tropical_fruit</td>\n",
       "      <td>yogurt</td>\n",
       "      <td>None</td>\n",
       "      <td>None</td>\n",
       "      <td>None</td>\n",
       "      <td>None</td>\n",
       "      <td>None</td>\n",
       "      <td>None</td>\n",
       "      <td>None</td>\n",
       "      <td>...</td>\n",
       "      <td>None</td>\n",
       "      <td>None</td>\n",
       "      <td>None</td>\n",
       "      <td>None</td>\n",
       "      <td>None</td>\n",
       "      <td>None</td>\n",
       "      <td>None</td>\n",
       "      <td>None</td>\n",
       "      <td>None</td>\n",
       "      <td>None</td>\n",
       "    </tr>\n",
       "    <tr>\n",
       "      <th>2</th>\n",
       "      <td>whole_milk</td>\n",
       "      <td>None</td>\n",
       "      <td>None</td>\n",
       "      <td>None</td>\n",
       "      <td>None</td>\n",
       "      <td>None</td>\n",
       "      <td>None</td>\n",
       "      <td>None</td>\n",
       "      <td>None</td>\n",
       "      <td>None</td>\n",
       "      <td>...</td>\n",
       "      <td>None</td>\n",
       "      <td>None</td>\n",
       "      <td>None</td>\n",
       "      <td>None</td>\n",
       "      <td>None</td>\n",
       "      <td>None</td>\n",
       "      <td>None</td>\n",
       "      <td>None</td>\n",
       "      <td>None</td>\n",
       "      <td>None</td>\n",
       "    </tr>\n",
       "    <tr>\n",
       "      <th>3</th>\n",
       "      <td>cream_cheese</td>\n",
       "      <td>meat_spreads</td>\n",
       "      <td>pip_fruit</td>\n",
       "      <td>yogurt</td>\n",
       "      <td>None</td>\n",
       "      <td>None</td>\n",
       "      <td>None</td>\n",
       "      <td>None</td>\n",
       "      <td>None</td>\n",
       "      <td>None</td>\n",
       "      <td>...</td>\n",
       "      <td>None</td>\n",
       "      <td>None</td>\n",
       "      <td>None</td>\n",
       "      <td>None</td>\n",
       "      <td>None</td>\n",
       "      <td>None</td>\n",
       "      <td>None</td>\n",
       "      <td>None</td>\n",
       "      <td>None</td>\n",
       "      <td>None</td>\n",
       "    </tr>\n",
       "    <tr>\n",
       "      <th>4</th>\n",
       "      <td>condensed_milk</td>\n",
       "      <td>long_life_bakery_product</td>\n",
       "      <td>other_vegetables</td>\n",
       "      <td>whole_milk</td>\n",
       "      <td>None</td>\n",
       "      <td>None</td>\n",
       "      <td>None</td>\n",
       "      <td>None</td>\n",
       "      <td>None</td>\n",
       "      <td>None</td>\n",
       "      <td>...</td>\n",
       "      <td>None</td>\n",
       "      <td>None</td>\n",
       "      <td>None</td>\n",
       "      <td>None</td>\n",
       "      <td>None</td>\n",
       "      <td>None</td>\n",
       "      <td>None</td>\n",
       "      <td>None</td>\n",
       "      <td>None</td>\n",
       "      <td>None</td>\n",
       "    </tr>\n",
       "    <tr>\n",
       "      <th>5</th>\n",
       "      <td>abrasive_cleaner</td>\n",
       "      <td>butter</td>\n",
       "      <td>rice</td>\n",
       "      <td>whole_milk</td>\n",
       "      <td>yogurt</td>\n",
       "      <td>None</td>\n",
       "      <td>None</td>\n",
       "      <td>None</td>\n",
       "      <td>None</td>\n",
       "      <td>None</td>\n",
       "      <td>...</td>\n",
       "      <td>None</td>\n",
       "      <td>None</td>\n",
       "      <td>None</td>\n",
       "      <td>None</td>\n",
       "      <td>None</td>\n",
       "      <td>None</td>\n",
       "      <td>None</td>\n",
       "      <td>None</td>\n",
       "      <td>None</td>\n",
       "      <td>None</td>\n",
       "    </tr>\n",
       "    <tr>\n",
       "      <th>6</th>\n",
       "      <td>rollsbuns</td>\n",
       "      <td>None</td>\n",
       "      <td>None</td>\n",
       "      <td>None</td>\n",
       "      <td>None</td>\n",
       "      <td>None</td>\n",
       "      <td>None</td>\n",
       "      <td>None</td>\n",
       "      <td>None</td>\n",
       "      <td>None</td>\n",
       "      <td>...</td>\n",
       "      <td>None</td>\n",
       "      <td>None</td>\n",
       "      <td>None</td>\n",
       "      <td>None</td>\n",
       "      <td>None</td>\n",
       "      <td>None</td>\n",
       "      <td>None</td>\n",
       "      <td>None</td>\n",
       "      <td>None</td>\n",
       "      <td>None</td>\n",
       "    </tr>\n",
       "    <tr>\n",
       "      <th>7</th>\n",
       "      <td>bottled_beer</td>\n",
       "      <td>liquor_appetizer</td>\n",
       "      <td>other_vegetables</td>\n",
       "      <td>rollsbuns</td>\n",
       "      <td>uhtmilk</td>\n",
       "      <td>None</td>\n",
       "      <td>None</td>\n",
       "      <td>None</td>\n",
       "      <td>None</td>\n",
       "      <td>None</td>\n",
       "      <td>...</td>\n",
       "      <td>None</td>\n",
       "      <td>None</td>\n",
       "      <td>None</td>\n",
       "      <td>None</td>\n",
       "      <td>None</td>\n",
       "      <td>None</td>\n",
       "      <td>None</td>\n",
       "      <td>None</td>\n",
       "      <td>None</td>\n",
       "      <td>None</td>\n",
       "    </tr>\n",
       "    <tr>\n",
       "      <th>8</th>\n",
       "      <td>potted_plants</td>\n",
       "      <td>None</td>\n",
       "      <td>None</td>\n",
       "      <td>None</td>\n",
       "      <td>None</td>\n",
       "      <td>None</td>\n",
       "      <td>None</td>\n",
       "      <td>None</td>\n",
       "      <td>None</td>\n",
       "      <td>None</td>\n",
       "      <td>...</td>\n",
       "      <td>None</td>\n",
       "      <td>None</td>\n",
       "      <td>None</td>\n",
       "      <td>None</td>\n",
       "      <td>None</td>\n",
       "      <td>None</td>\n",
       "      <td>None</td>\n",
       "      <td>None</td>\n",
       "      <td>None</td>\n",
       "      <td>None</td>\n",
       "    </tr>\n",
       "    <tr>\n",
       "      <th>9</th>\n",
       "      <td>cereals</td>\n",
       "      <td>whole_milk</td>\n",
       "      <td>None</td>\n",
       "      <td>None</td>\n",
       "      <td>None</td>\n",
       "      <td>None</td>\n",
       "      <td>None</td>\n",
       "      <td>None</td>\n",
       "      <td>None</td>\n",
       "      <td>None</td>\n",
       "      <td>...</td>\n",
       "      <td>None</td>\n",
       "      <td>None</td>\n",
       "      <td>None</td>\n",
       "      <td>None</td>\n",
       "      <td>None</td>\n",
       "      <td>None</td>\n",
       "      <td>None</td>\n",
       "      <td>None</td>\n",
       "      <td>None</td>\n",
       "      <td>None</td>\n",
       "    </tr>\n",
       "  </tbody>\n",
       "</table>\n",
       "<p>10 rows × 32 columns</p>\n",
       "</div>"
      ],
      "text/plain": [
       "                 0                         1                 2   \\\n",
       "0      citrus_fruit                 margarine       ready_soups   \n",
       "1            coffee            tropical_fruit            yogurt   \n",
       "2        whole_milk                      None              None   \n",
       "3      cream_cheese              meat_spreads         pip_fruit   \n",
       "4    condensed_milk  long_life_bakery_product  other_vegetables   \n",
       "5  abrasive_cleaner                    butter              rice   \n",
       "6         rollsbuns                      None              None   \n",
       "7      bottled_beer          liquor_appetizer  other_vegetables   \n",
       "8     potted_plants                      None              None   \n",
       "9           cereals                whole_milk              None   \n",
       "\n",
       "                   3        4     5     6     7     8     9   ...    22    23  \\\n",
       "0  semifinished_bread     None  None  None  None  None  None  ...  None  None   \n",
       "1                None     None  None  None  None  None  None  ...  None  None   \n",
       "2                None     None  None  None  None  None  None  ...  None  None   \n",
       "3              yogurt     None  None  None  None  None  None  ...  None  None   \n",
       "4          whole_milk     None  None  None  None  None  None  ...  None  None   \n",
       "5          whole_milk   yogurt  None  None  None  None  None  ...  None  None   \n",
       "6                None     None  None  None  None  None  None  ...  None  None   \n",
       "7           rollsbuns  uhtmilk  None  None  None  None  None  ...  None  None   \n",
       "8                None     None  None  None  None  None  None  ...  None  None   \n",
       "9                None     None  None  None  None  None  None  ...  None  None   \n",
       "\n",
       "     24    25    26    27    28    29    30    31  \n",
       "0  None  None  None  None  None  None  None  None  \n",
       "1  None  None  None  None  None  None  None  None  \n",
       "2  None  None  None  None  None  None  None  None  \n",
       "3  None  None  None  None  None  None  None  None  \n",
       "4  None  None  None  None  None  None  None  None  \n",
       "5  None  None  None  None  None  None  None  None  \n",
       "6  None  None  None  None  None  None  None  None  \n",
       "7  None  None  None  None  None  None  None  None  \n",
       "8  None  None  None  None  None  None  None  None  \n",
       "9  None  None  None  None  None  None  None  None  \n",
       "\n",
       "[10 rows x 32 columns]"
      ]
     },
     "execution_count": 12,
     "metadata": {},
     "output_type": "execute_result"
    }
   ],
   "source": [
    "# converting it into a DataFrame and displaying\n",
    "modified_df = pd.DataFrame(modified_df)\n",
    "print(modified_df.shape)\n",
    "modified_df.head(10)"
   ]
  },
  {
   "cell_type": "code",
   "execution_count": 13,
   "metadata": {},
   "outputs": [
    {
     "data": {
      "text/html": [
       "<div>\n",
       "<style scoped>\n",
       "    .dataframe tbody tr th:only-of-type {\n",
       "        vertical-align: middle;\n",
       "    }\n",
       "\n",
       "    .dataframe tbody tr th {\n",
       "        vertical-align: top;\n",
       "    }\n",
       "\n",
       "    .dataframe thead th {\n",
       "        text-align: right;\n",
       "    }\n",
       "</style>\n",
       "<table border=\"1\" class=\"dataframe\">\n",
       "  <thead>\n",
       "    <tr style=\"text-align: right;\">\n",
       "      <th></th>\n",
       "      <th>0</th>\n",
       "      <th>1</th>\n",
       "      <th>2</th>\n",
       "      <th>3</th>\n",
       "      <th>4</th>\n",
       "    </tr>\n",
       "  </thead>\n",
       "  <tbody>\n",
       "    <tr>\n",
       "      <th>45</th>\n",
       "      <td>coffee</td>\n",
       "      <td>None</td>\n",
       "      <td>None</td>\n",
       "      <td>None</td>\n",
       "      <td>None</td>\n",
       "    </tr>\n",
       "    <tr>\n",
       "      <th>46</th>\n",
       "      <td>bottled_water</td>\n",
       "      <td>pastry</td>\n",
       "      <td>None</td>\n",
       "      <td>None</td>\n",
       "      <td>None</td>\n",
       "    </tr>\n",
       "    <tr>\n",
       "      <th>47</th>\n",
       "      <td>rollsbuns</td>\n",
       "      <td>None</td>\n",
       "      <td>None</td>\n",
       "      <td>None</td>\n",
       "      <td>None</td>\n",
       "    </tr>\n",
       "    <tr>\n",
       "      <th>48</th>\n",
       "      <td>misc_beverages</td>\n",
       "      <td>None</td>\n",
       "      <td>None</td>\n",
       "      <td>None</td>\n",
       "      <td>None</td>\n",
       "    </tr>\n",
       "    <tr>\n",
       "      <th>49</th>\n",
       "      <td>bottled_water</td>\n",
       "      <td>butter</td>\n",
       "      <td>curd</td>\n",
       "      <td>hard_cheese</td>\n",
       "      <td>long_life_bakery_product</td>\n",
       "    </tr>\n",
       "  </tbody>\n",
       "</table>\n",
       "</div>"
      ],
      "text/plain": [
       "                 0       1     2            3                         4\n",
       "45          coffee    None  None         None                      None\n",
       "46   bottled_water  pastry  None         None                      None\n",
       "47       rollsbuns    None  None         None                      None\n",
       "48  misc_beverages    None  None         None                      None\n",
       "49   bottled_water  butter  curd  hard_cheese  long_life_bakery_product"
      ]
     },
     "execution_count": 13,
     "metadata": {},
     "output_type": "execute_result"
    }
   ],
   "source": [
    "# Taking a subset of the original file with 50 rows and 5 columns \n",
    "modified_df = modified_df.iloc[:50, :5]\n",
    "# printing the last 5 rows of the data frame\n",
    "modified_df.tail()"
   ]
  },
  {
   "cell_type": "markdown",
   "metadata": {},
   "source": [
    "## Taking the individual frequencies of each item "
   ]
  },
  {
   "cell_type": "code",
   "execution_count": 14,
   "metadata": {
    "scrolled": true
   },
   "outputs": [
    {
     "name": "stdout",
     "output_type": "stream",
     "text": [
      "142\n"
     ]
    },
    {
     "data": {
      "text/plain": [
       "['abrasive_cleaner',\n",
       " 'abrasive_cleaner',\n",
       " 'artif_sweetener',\n",
       " 'bathroom_cleaner',\n",
       " 'beef',\n",
       " 'beef',\n",
       " 'berries',\n",
       " 'berries',\n",
       " 'beverages',\n",
       " 'beverages']"
      ]
     },
     "execution_count": 14,
     "metadata": {},
     "output_type": "execute_result"
    }
   ],
   "source": [
    "# Creating a list of all the items in the basket\n",
    "item_list = list()\n",
    "for col in modified_df.columns:\n",
    "    # Preprocessing of the items by ignoring all the \"nan\" values and replacing space with underscore\n",
    "    item_list = item_list + [str(x) for x in list(modified_df[col]) if str(x)!='None'] \n",
    "item_list = sorted(item_list)\n",
    "# printing the first 10 items of the list\n",
    "print(len(item_list))\n",
    "item_list[:10]"
   ]
  },
  {
   "cell_type": "code",
   "execution_count": 15,
   "metadata": {
    "scrolled": true
   },
   "outputs": [
    {
     "name": "stdout",
     "output_type": "stream",
     "text": [
      "63\n"
     ]
    },
    {
     "data": {
      "text/plain": [
       "['abrasive_cleaner',\n",
       " 'artif_sweetener',\n",
       " 'bathroom_cleaner',\n",
       " 'beef',\n",
       " 'berries',\n",
       " 'beverages',\n",
       " 'bottled_beer',\n",
       " 'bottled_water',\n",
       " 'brown_bread',\n",
       " 'butter']"
      ]
     },
     "execution_count": 15,
     "metadata": {},
     "output_type": "execute_result"
    }
   ],
   "source": [
    "# Creating a set of all the unique items in the basket\n",
    "item_set = frozenset()\n",
    "for col in modified_df.columns:\n",
    "        # Preprocessing of the items by ignoring all the \"nan\" values and replacing space with underscore\n",
    "    item_set = item_set.union(set([str(x) for x in list(modified_df[col]) if str(x)!='None']))\n",
    "item_set = sorted(item_set)\n",
    "# set cannot be hashed, so converting it to a list and\n",
    "# printing the first 10 items of the list\n",
    "print(len(item_set))\n",
    "list(item_set)[:10]"
   ]
  },
  {
   "cell_type": "code",
   "execution_count": 16,
   "metadata": {},
   "outputs": [
    {
     "name": "stdout",
     "output_type": "stream",
     "text": [
      "{'abrasive_cleaner': 2, 'artif_sweetener': 1, 'bathroom_cleaner': 1, 'beef': 2, 'berries': 2, 'beverages': 2, 'bottled_beer': 1, 'bottled_water': 8, 'brown_bread': 2, 'butter': 4, 'butter_milk': 2, 'candy': 2, 'canned_beer': 5, 'cereals': 2, 'chicken': 1, 'chocolate': 3, 'citrus_fruit': 3, 'coffee': 3, 'condensed_milk': 1, 'cream_cheese': 3, 'curd': 2, 'dessert': 1, 'detergent': 2, 'dishes': 1, 'domestic_eggs': 1, 'flour': 1, 'frankfurter': 1, 'frozen_dessert': 1, 'fruitvegetable_juice': 4, 'grapes': 1, 'hamburger_meat': 1, 'hard_cheese': 1, 'hygiene_articles': 1, 'liquor_appetizer': 1, 'long_life_bakery_product': 2, 'margarine': 1, 'meat_spreads': 1, 'misc_beverages': 1, 'napkins': 1, 'newspapers': 5, 'other_vegetables': 10, 'packaged_fruitvegetables': 1, 'pastry': 3, 'pip_fruit': 1, 'pork': 1, 'potted_plants': 1, 'processed_cheese': 1, 'ready_soups': 1, 'rice': 1, 'rollsbuns': 7, 'root_vegetables': 2, 'sausage': 2, 'semifinished_bread': 1, 'shopping_bags': 2, 'soda': 4, 'specialty_bar': 2, 'sugar': 2, 'tropical_fruit': 4, 'uhtmilk': 1, 'white_bread': 1, 'whole_milk': 7, 'yogurt': 6, 'zwieback': 1}\n",
      "63\n"
     ]
    }
   ],
   "source": [
    "# printing the counts of each item in the `item_list`\n",
    "valu_counts = dict()\n",
    "for x in item_set:\n",
    "    valu_counts[x] = item_list.count(x)\n",
    "print(valu_counts)\n",
    "print(len(valu_counts))"
   ]
  },
  {
   "cell_type": "markdown",
   "metadata": {},
   "source": [
    "### Plotting item vs frequency graph"
   ]
  },
  {
   "cell_type": "code",
   "execution_count": 18,
   "metadata": {
    "scrolled": false
   },
   "outputs": [
    {
     "data": {
      "image/png": "[encoded data removed]",
      "text/plain": [
       "<Figure size 1440x288 with 1 Axes>"
      ]
     },
     "metadata": {
      "needs_background": "light"
     },
     "output_type": "display_data"
    }
   ],
   "source": [
    "plt.bar(list(valu_counts.keys()), list(valu_counts.values()), label=\"Items and Frequencies\")\n",
    "plt.rcParams[\"figure.figsize\"] = [20,5]\n",
    "plt.ylabel ('Number of Transactions')\n",
    "plt.xlabel ('Items Sold')\n",
    "plt.xticks(list(valu_counts.keys()), rotation=90)\n",
    "plt.legend (bbox_to_anchor=(1, 1), loc=\"best\", borderaxespad=0.)\n",
    "\n",
    "plt.show()"
   ]
  },
  {
   "cell_type": "markdown",
   "metadata": {},
   "source": [
    "## Modifying as vectors\n",
    "Modifying the `modified_df` into the apriori required format"
   ]
  },
  {
   "cell_type": "code",
   "execution_count": 23,
   "metadata": {
    "scrolled": true
   },
   "outputs": [
    {
     "name": "stdout",
     "output_type": "stream",
     "text": [
      "['citrus_fruit margarine ready_soups semifinished_bread', 'coffee tropical_fruit yogurt', 'whole_milk', 'cream_cheese meat_spreads pip_fruit yogurt', 'condensed_milk long_life_bakery_product other_vegetables whole_milk', 'abrasive_cleaner butter rice whole_milk yogurt', 'rollsbuns', 'bottled_beer liquor_appetizer other_vegetables rollsbuns uhtmilk', 'potted_plants', 'cereals whole_milk', 'bottled_water chocolate other_vegetables tropical_fruit white_bread', 'bottled_water butter citrus_fruit curd dishes', 'beef', 'frankfurter rollsbuns soda', 'chicken tropical_fruit', 'butter fruitvegetable_juice newspapers sugar', 'fruitvegetable_juice', 'packaged_fruitvegetables', 'chocolate', 'specialty_bar', 'other_vegetables', 'butter_milk pastry', 'whole_milk', 'cream_cheese detergent newspapers processed_cheese tropical_fruit', 'bathroom_cleaner candy flour frozen_dessert other_vegetables', 'bottled_water canned_beer', 'yogurt', 'chocolate rollsbuns sausage soda', 'other_vegetables', 'brown_bread canned_beer fruitvegetable_juice newspapers shopping_bags', 'beverages bottled_water specialty_bar yogurt', 'bottled_water hamburger_meat hygiene_articles napkins other_vegetables', 'beverages other_vegetables root_vegetables sugar whole_milk', 'abrasive_cleaner artif_sweetener berries other_vegetables pork', 'beef detergent grapes', 'pastry soda', 'fruitvegetable_juice', 'canned_beer', 'dessert other_vegetables root_vegetables whole_milk', 'citrus_fruit newspapers zwieback', 'canned_beer rollsbuns sausage shopping_bags soda', 'brown_bread candy cereals coffee domestic_eggs', 'berries yogurt', 'canned_beer', 'bottled_water butter_milk cream_cheese newspapers rollsbuns', 'coffee', 'bottled_water pastry', 'rollsbuns', 'misc_beverages', 'bottled_water butter curd hard_cheese long_life_bakery_product']\n"
     ]
    }
   ],
   "source": [
    "# preparing data for the vectorizer\n",
    "# combining each row into a string separated by space and ignoring None values\n",
    "df_to_list = modified_df.values.tolist()\n",
    "doc = []\n",
    "for sublist in df_to_list:\n",
    "    cleaned = [elem for elem in sublist if elem is not None]\n",
    "    if len(cleaned):  \n",
    "        doc.append(cleaned)\n",
    "doc = [\" \".join(x) for x in doc]\n",
    "print(doc)"
   ]
  },
  {
   "cell_type": "code",
   "execution_count": 24,
   "metadata": {
    "scrolled": true
   },
   "outputs": [
    {
     "name": "stdout",
     "output_type": "stream",
     "text": [
      "(50, 63)\n"
     ]
    },
    {
     "data": {
      "text/plain": [
       "array([[0, 0, 0, ..., 0, 0, 0],\n",
       "       [0, 0, 0, ..., 0, 1, 0],\n",
       "       [0, 0, 0, ..., 1, 0, 0],\n",
       "       ...,\n",
       "       [0, 0, 0, ..., 0, 0, 0],\n",
       "       [0, 0, 0, ..., 0, 0, 0],\n",
       "       [0, 0, 0, ..., 0, 0, 0]], dtype=int64)"
      ]
     },
     "execution_count": 24,
     "metadata": {},
     "output_type": "execute_result"
    }
   ],
   "source": [
    "# initialising a vectoriser \n",
    "vectorizer = CountVectorizer()\n",
    "# Converting our item_set into a bag of words sparse matrix\n",
    "X = vectorizer.fit_transform(doc)\n",
    "X = X.toarray()\n",
    "# X has a shape of 50 rows = number_of_persons and 44 columns=len(item_set)\n",
    "print(X.shape)\n",
    "X"
   ]
  },
  {
   "cell_type": "code",
   "execution_count": 25,
   "metadata": {},
   "outputs": [
    {
     "name": "stdout",
     "output_type": "stream",
     "text": [
      "63\n"
     ]
    },
    {
     "data": {
      "text/plain": [
       "['abrasive_cleaner',\n",
       " 'artif_sweetener',\n",
       " 'bathroom_cleaner',\n",
       " 'beef',\n",
       " 'berries',\n",
       " 'beverages',\n",
       " 'bottled_beer',\n",
       " 'bottled_water',\n",
       " 'brown_bread',\n",
       " 'butter']"
      ]
     },
     "execution_count": 25,
     "metadata": {},
     "output_type": "execute_result"
    }
   ],
   "source": [
    "# printing the feature names of the vectorizer\n",
    "print(len(vectorizer.get_feature_names()))\n",
    "vectorizer.get_feature_names()[:10]"
   ]
  },
  {
   "cell_type": "markdown",
   "metadata": {},
   "source": [
    "## Transforming our dataset for Apriori Algorithm"
   ]
  },
  {
   "cell_type": "code",
   "execution_count": 26,
   "metadata": {},
   "outputs": [],
   "source": [
    "# creating a new dataframe and adding all the values of the sparse matrix to the corresponding item name\n",
    "final_df = pd.DataFrame(X, columns = item_set)"
   ]
  },
  {
   "cell_type": "code",
   "execution_count": 27,
   "metadata": {
    "scrolled": false
   },
   "outputs": [
    {
     "name": "stdout",
     "output_type": "stream",
     "text": [
      "(50, 63)\n"
     ]
    },
    {
     "data": {
      "text/html": [
       "<div>\n",
       "<style scoped>\n",
       "    .dataframe tbody tr th:only-of-type {\n",
       "        vertical-align: middle;\n",
       "    }\n",
       "\n",
       "    .dataframe tbody tr th {\n",
       "        vertical-align: top;\n",
       "    }\n",
       "\n",
       "    .dataframe thead th {\n",
       "        text-align: right;\n",
       "    }\n",
       "</style>\n",
       "<table border=\"1\" class=\"dataframe\">\n",
       "  <thead>\n",
       "    <tr style=\"text-align: right;\">\n",
       "      <th></th>\n",
       "      <th>abrasive_cleaner</th>\n",
       "      <th>artif_sweetener</th>\n",
       "      <th>bathroom_cleaner</th>\n",
       "      <th>beef</th>\n",
       "      <th>berries</th>\n",
       "      <th>beverages</th>\n",
       "      <th>bottled_beer</th>\n",
       "      <th>bottled_water</th>\n",
       "      <th>brown_bread</th>\n",
       "      <th>butter</th>\n",
       "      <th>...</th>\n",
       "      <th>shopping_bags</th>\n",
       "      <th>soda</th>\n",
       "      <th>specialty_bar</th>\n",
       "      <th>sugar</th>\n",
       "      <th>tropical_fruit</th>\n",
       "      <th>uhtmilk</th>\n",
       "      <th>white_bread</th>\n",
       "      <th>whole_milk</th>\n",
       "      <th>yogurt</th>\n",
       "      <th>zwieback</th>\n",
       "    </tr>\n",
       "  </thead>\n",
       "  <tbody>\n",
       "    <tr>\n",
       "      <th>0</th>\n",
       "      <td>0</td>\n",
       "      <td>0</td>\n",
       "      <td>0</td>\n",
       "      <td>0</td>\n",
       "      <td>0</td>\n",
       "      <td>0</td>\n",
       "      <td>0</td>\n",
       "      <td>0</td>\n",
       "      <td>0</td>\n",
       "      <td>0</td>\n",
       "      <td>...</td>\n",
       "      <td>0</td>\n",
       "      <td>0</td>\n",
       "      <td>0</td>\n",
       "      <td>0</td>\n",
       "      <td>0</td>\n",
       "      <td>0</td>\n",
       "      <td>0</td>\n",
       "      <td>0</td>\n",
       "      <td>0</td>\n",
       "      <td>0</td>\n",
       "    </tr>\n",
       "    <tr>\n",
       "      <th>1</th>\n",
       "      <td>0</td>\n",
       "      <td>0</td>\n",
       "      <td>0</td>\n",
       "      <td>0</td>\n",
       "      <td>0</td>\n",
       "      <td>0</td>\n",
       "      <td>0</td>\n",
       "      <td>0</td>\n",
       "      <td>0</td>\n",
       "      <td>0</td>\n",
       "      <td>...</td>\n",
       "      <td>0</td>\n",
       "      <td>0</td>\n",
       "      <td>0</td>\n",
       "      <td>0</td>\n",
       "      <td>1</td>\n",
       "      <td>0</td>\n",
       "      <td>0</td>\n",
       "      <td>0</td>\n",
       "      <td>1</td>\n",
       "      <td>0</td>\n",
       "    </tr>\n",
       "    <tr>\n",
       "      <th>2</th>\n",
       "      <td>0</td>\n",
       "      <td>0</td>\n",
       "      <td>0</td>\n",
       "      <td>0</td>\n",
       "      <td>0</td>\n",
       "      <td>0</td>\n",
       "      <td>0</td>\n",
       "      <td>0</td>\n",
       "      <td>0</td>\n",
       "      <td>0</td>\n",
       "      <td>...</td>\n",
       "      <td>0</td>\n",
       "      <td>0</td>\n",
       "      <td>0</td>\n",
       "      <td>0</td>\n",
       "      <td>0</td>\n",
       "      <td>0</td>\n",
       "      <td>0</td>\n",
       "      <td>1</td>\n",
       "      <td>0</td>\n",
       "      <td>0</td>\n",
       "    </tr>\n",
       "    <tr>\n",
       "      <th>3</th>\n",
       "      <td>0</td>\n",
       "      <td>0</td>\n",
       "      <td>0</td>\n",
       "      <td>0</td>\n",
       "      <td>0</td>\n",
       "      <td>0</td>\n",
       "      <td>0</td>\n",
       "      <td>0</td>\n",
       "      <td>0</td>\n",
       "      <td>0</td>\n",
       "      <td>...</td>\n",
       "      <td>0</td>\n",
       "      <td>0</td>\n",
       "      <td>0</td>\n",
       "      <td>0</td>\n",
       "      <td>0</td>\n",
       "      <td>0</td>\n",
       "      <td>0</td>\n",
       "      <td>0</td>\n",
       "      <td>1</td>\n",
       "      <td>0</td>\n",
       "    </tr>\n",
       "    <tr>\n",
       "      <th>4</th>\n",
       "      <td>0</td>\n",
       "      <td>0</td>\n",
       "      <td>0</td>\n",
       "      <td>0</td>\n",
       "      <td>0</td>\n",
       "      <td>0</td>\n",
       "      <td>0</td>\n",
       "      <td>0</td>\n",
       "      <td>0</td>\n",
       "      <td>0</td>\n",
       "      <td>...</td>\n",
       "      <td>0</td>\n",
       "      <td>0</td>\n",
       "      <td>0</td>\n",
       "      <td>0</td>\n",
       "      <td>0</td>\n",
       "      <td>0</td>\n",
       "      <td>0</td>\n",
       "      <td>1</td>\n",
       "      <td>0</td>\n",
       "      <td>0</td>\n",
       "    </tr>\n",
       "  </tbody>\n",
       "</table>\n",
       "<p>5 rows × 63 columns</p>\n",
       "</div>"
      ],
      "text/plain": [
       "   abrasive_cleaner  artif_sweetener  bathroom_cleaner  beef  berries  \\\n",
       "0                 0                0                 0     0        0   \n",
       "1                 0                0                 0     0        0   \n",
       "2                 0                0                 0     0        0   \n",
       "3                 0                0                 0     0        0   \n",
       "4                 0                0                 0     0        0   \n",
       "\n",
       "   beverages  bottled_beer  bottled_water  brown_bread  butter  ...  \\\n",
       "0          0             0              0            0       0  ...   \n",
       "1          0             0              0            0       0  ...   \n",
       "2          0             0              0            0       0  ...   \n",
       "3          0             0              0            0       0  ...   \n",
       "4          0             0              0            0       0  ...   \n",
       "\n",
       "   shopping_bags  soda  specialty_bar  sugar  tropical_fruit  uhtmilk  \\\n",
       "0              0     0              0      0               0        0   \n",
       "1              0     0              0      0               1        0   \n",
       "2              0     0              0      0               0        0   \n",
       "3              0     0              0      0               0        0   \n",
       "4              0     0              0      0               0        0   \n",
       "\n",
       "   white_bread  whole_milk  yogurt  zwieback  \n",
       "0            0           0       0         0  \n",
       "1            0           0       1         0  \n",
       "2            0           1       0         0  \n",
       "3            0           0       1         0  \n",
       "4            0           1       0         0  \n",
       "\n",
       "[5 rows x 63 columns]"
      ]
     },
     "execution_count": 27,
     "metadata": {},
     "output_type": "execute_result"
    }
   ],
   "source": [
    "# printing the first 5 rows\n",
    "print(final_df.shape)\n",
    "final_df.head()"
   ]
  },
  {
   "cell_type": "code",
   "execution_count": 28,
   "metadata": {},
   "outputs": [
    {
     "data": {
      "text/html": [
       "<div>\n",
       "<style scoped>\n",
       "    .dataframe tbody tr th:only-of-type {\n",
       "        vertical-align: middle;\n",
       "    }\n",
       "\n",
       "    .dataframe tbody tr th {\n",
       "        vertical-align: top;\n",
       "    }\n",
       "\n",
       "    .dataframe thead th {\n",
       "        text-align: right;\n",
       "    }\n",
       "</style>\n",
       "<table border=\"1\" class=\"dataframe\">\n",
       "  <thead>\n",
       "    <tr style=\"text-align: right;\">\n",
       "      <th></th>\n",
       "      <th>abrasive_cleaner</th>\n",
       "      <th>artif_sweetener</th>\n",
       "      <th>bathroom_cleaner</th>\n",
       "      <th>beef</th>\n",
       "      <th>berries</th>\n",
       "      <th>beverages</th>\n",
       "      <th>bottled_beer</th>\n",
       "      <th>bottled_water</th>\n",
       "      <th>brown_bread</th>\n",
       "      <th>butter</th>\n",
       "      <th>...</th>\n",
       "      <th>shopping_bags</th>\n",
       "      <th>soda</th>\n",
       "      <th>specialty_bar</th>\n",
       "      <th>sugar</th>\n",
       "      <th>tropical_fruit</th>\n",
       "      <th>uhtmilk</th>\n",
       "      <th>white_bread</th>\n",
       "      <th>whole_milk</th>\n",
       "      <th>yogurt</th>\n",
       "      <th>zwieback</th>\n",
       "    </tr>\n",
       "  </thead>\n",
       "  <tbody>\n",
       "    <tr>\n",
       "      <th>45</th>\n",
       "      <td>0</td>\n",
       "      <td>0</td>\n",
       "      <td>0</td>\n",
       "      <td>0</td>\n",
       "      <td>0</td>\n",
       "      <td>0</td>\n",
       "      <td>0</td>\n",
       "      <td>0</td>\n",
       "      <td>0</td>\n",
       "      <td>0</td>\n",
       "      <td>...</td>\n",
       "      <td>0</td>\n",
       "      <td>0</td>\n",
       "      <td>0</td>\n",
       "      <td>0</td>\n",
       "      <td>0</td>\n",
       "      <td>0</td>\n",
       "      <td>0</td>\n",
       "      <td>0</td>\n",
       "      <td>0</td>\n",
       "      <td>0</td>\n",
       "    </tr>\n",
       "    <tr>\n",
       "      <th>46</th>\n",
       "      <td>0</td>\n",
       "      <td>0</td>\n",
       "      <td>0</td>\n",
       "      <td>0</td>\n",
       "      <td>0</td>\n",
       "      <td>0</td>\n",
       "      <td>0</td>\n",
       "      <td>1</td>\n",
       "      <td>0</td>\n",
       "      <td>0</td>\n",
       "      <td>...</td>\n",
       "      <td>0</td>\n",
       "      <td>0</td>\n",
       "      <td>0</td>\n",
       "      <td>0</td>\n",
       "      <td>0</td>\n",
       "      <td>0</td>\n",
       "      <td>0</td>\n",
       "      <td>0</td>\n",
       "      <td>0</td>\n",
       "      <td>0</td>\n",
       "    </tr>\n",
       "    <tr>\n",
       "      <th>47</th>\n",
       "      <td>0</td>\n",
       "      <td>0</td>\n",
       "      <td>0</td>\n",
       "      <td>0</td>\n",
       "      <td>0</td>\n",
       "      <td>0</td>\n",
       "      <td>0</td>\n",
       "      <td>0</td>\n",
       "      <td>0</td>\n",
       "      <td>0</td>\n",
       "      <td>...</td>\n",
       "      <td>0</td>\n",
       "      <td>0</td>\n",
       "      <td>0</td>\n",
       "      <td>0</td>\n",
       "      <td>0</td>\n",
       "      <td>0</td>\n",
       "      <td>0</td>\n",
       "      <td>0</td>\n",
       "      <td>0</td>\n",
       "      <td>0</td>\n",
       "    </tr>\n",
       "    <tr>\n",
       "      <th>48</th>\n",
       "      <td>0</td>\n",
       "      <td>0</td>\n",
       "      <td>0</td>\n",
       "      <td>0</td>\n",
       "      <td>0</td>\n",
       "      <td>0</td>\n",
       "      <td>0</td>\n",
       "      <td>0</td>\n",
       "      <td>0</td>\n",
       "      <td>0</td>\n",
       "      <td>...</td>\n",
       "      <td>0</td>\n",
       "      <td>0</td>\n",
       "      <td>0</td>\n",
       "      <td>0</td>\n",
       "      <td>0</td>\n",
       "      <td>0</td>\n",
       "      <td>0</td>\n",
       "      <td>0</td>\n",
       "      <td>0</td>\n",
       "      <td>0</td>\n",
       "    </tr>\n",
       "    <tr>\n",
       "      <th>49</th>\n",
       "      <td>0</td>\n",
       "      <td>0</td>\n",
       "      <td>0</td>\n",
       "      <td>0</td>\n",
       "      <td>0</td>\n",
       "      <td>0</td>\n",
       "      <td>0</td>\n",
       "      <td>1</td>\n",
       "      <td>0</td>\n",
       "      <td>1</td>\n",
       "      <td>...</td>\n",
       "      <td>0</td>\n",
       "      <td>0</td>\n",
       "      <td>0</td>\n",
       "      <td>0</td>\n",
       "      <td>0</td>\n",
       "      <td>0</td>\n",
       "      <td>0</td>\n",
       "      <td>0</td>\n",
       "      <td>0</td>\n",
       "      <td>0</td>\n",
       "    </tr>\n",
       "  </tbody>\n",
       "</table>\n",
       "<p>5 rows × 63 columns</p>\n",
       "</div>"
      ],
      "text/plain": [
       "    abrasive_cleaner  artif_sweetener  bathroom_cleaner  beef  berries  \\\n",
       "45                 0                0                 0     0        0   \n",
       "46                 0                0                 0     0        0   \n",
       "47                 0                0                 0     0        0   \n",
       "48                 0                0                 0     0        0   \n",
       "49                 0                0                 0     0        0   \n",
       "\n",
       "    beverages  bottled_beer  bottled_water  brown_bread  butter  ...  \\\n",
       "45          0             0              0            0       0  ...   \n",
       "46          0             0              1            0       0  ...   \n",
       "47          0             0              0            0       0  ...   \n",
       "48          0             0              0            0       0  ...   \n",
       "49          0             0              1            0       1  ...   \n",
       "\n",
       "    shopping_bags  soda  specialty_bar  sugar  tropical_fruit  uhtmilk  \\\n",
       "45              0     0              0      0               0        0   \n",
       "46              0     0              0      0               0        0   \n",
       "47              0     0              0      0               0        0   \n",
       "48              0     0              0      0               0        0   \n",
       "49              0     0              0      0               0        0   \n",
       "\n",
       "    white_bread  whole_milk  yogurt  zwieback  \n",
       "45            0           0       0         0  \n",
       "46            0           0       0         0  \n",
       "47            0           0       0         0  \n",
       "48            0           0       0         0  \n",
       "49            0           0       0         0  \n",
       "\n",
       "[5 rows x 63 columns]"
      ]
     },
     "execution_count": 28,
     "metadata": {},
     "output_type": "execute_result"
    }
   ],
   "source": [
    "# printing the last 5 rows\n",
    "final_df.tail()"
   ]
  },
  {
   "cell_type": "markdown",
   "metadata": {},
   "source": [
    "## Storing the transformed dataframe into `.csv` format"
   ]
  },
  {
   "cell_type": "code",
   "execution_count": 29,
   "metadata": {},
   "outputs": [],
   "source": [
    "# storing the result into a csv file\n",
    "final_df.to_csv('Groceries_Transformed.csv')"
   ]
  },
  {
   "cell_type": "code",
   "execution_count": 30,
   "metadata": {},
   "outputs": [],
   "source": [
    "# Converting this jupyter ipynb to a html viewable file\n",
    "# !jupyter nbconvert --to html Apriori.ipynb "
   ]
  },
  {
   "cell_type": "markdown",
   "metadata": {},
   "source": [
    "## Performing Apriori Algorithm"
   ]
  },
  {
   "cell_type": "code",
   "execution_count": 31,
   "metadata": {},
   "outputs": [
    {
     "data": {
      "text/html": [
       "<div>\n",
       "<style scoped>\n",
       "    .dataframe tbody tr th:only-of-type {\n",
       "        vertical-align: middle;\n",
       "    }\n",
       "\n",
       "    .dataframe tbody tr th {\n",
       "        vertical-align: top;\n",
       "    }\n",
       "\n",
       "    .dataframe thead th {\n",
       "        text-align: right;\n",
       "    }\n",
       "</style>\n",
       "<table border=\"1\" class=\"dataframe\">\n",
       "  <thead>\n",
       "    <tr style=\"text-align: right;\">\n",
       "      <th></th>\n",
       "      <th>support</th>\n",
       "      <th>itemsets</th>\n",
       "    </tr>\n",
       "  </thead>\n",
       "  <tbody>\n",
       "    <tr>\n",
       "      <th>0</th>\n",
       "      <td>0.04</td>\n",
       "      <td>(abrasive_cleaner)</td>\n",
       "    </tr>\n",
       "    <tr>\n",
       "      <th>1</th>\n",
       "      <td>0.04</td>\n",
       "      <td>(beef)</td>\n",
       "    </tr>\n",
       "    <tr>\n",
       "      <th>2</th>\n",
       "      <td>0.04</td>\n",
       "      <td>(berries)</td>\n",
       "    </tr>\n",
       "    <tr>\n",
       "      <th>3</th>\n",
       "      <td>0.04</td>\n",
       "      <td>(beverages)</td>\n",
       "    </tr>\n",
       "    <tr>\n",
       "      <th>4</th>\n",
       "      <td>0.16</td>\n",
       "      <td>(bottled_water)</td>\n",
       "    </tr>\n",
       "  </tbody>\n",
       "</table>\n",
       "</div>"
      ],
      "text/plain": [
       "   support            itemsets\n",
       "0     0.04  (abrasive_cleaner)\n",
       "1     0.04              (beef)\n",
       "2     0.04           (berries)\n",
       "3     0.04         (beverages)\n",
       "4     0.16     (bottled_water)"
      ]
     },
     "execution_count": 31,
     "metadata": {},
     "output_type": "execute_result"
    }
   ],
   "source": [
    "# finding the frequent item_sets above the minimum supports\n",
    "frequent_itemsets = apriori(final_df,min_support=0.03,  use_colnames=True)\n",
    "# first five rows\n",
    "frequent_itemsets.head(5)"
   ]
  },
  {
   "cell_type": "code",
   "execution_count": 32,
   "metadata": {
    "scrolled": true
   },
   "outputs": [
    {
     "data": {
      "text/html": [
       "<div>\n",
       "<style scoped>\n",
       "    .dataframe tbody tr th:only-of-type {\n",
       "        vertical-align: middle;\n",
       "    }\n",
       "\n",
       "    .dataframe tbody tr th {\n",
       "        vertical-align: top;\n",
       "    }\n",
       "\n",
       "    .dataframe thead th {\n",
       "        text-align: right;\n",
       "    }\n",
       "</style>\n",
       "<table border=\"1\" class=\"dataframe\">\n",
       "  <thead>\n",
       "    <tr style=\"text-align: right;\">\n",
       "      <th></th>\n",
       "      <th>support</th>\n",
       "      <th>itemsets</th>\n",
       "    </tr>\n",
       "  </thead>\n",
       "  <tbody>\n",
       "    <tr>\n",
       "      <th>43</th>\n",
       "      <td>0.04</td>\n",
       "      <td>(root_vegetables, whole_milk)</td>\n",
       "    </tr>\n",
       "    <tr>\n",
       "      <th>44</th>\n",
       "      <td>0.04</td>\n",
       "      <td>(sausage, soda)</td>\n",
       "    </tr>\n",
       "    <tr>\n",
       "      <th>45</th>\n",
       "      <td>0.04</td>\n",
       "      <td>(curd, butter, bottled_water)</td>\n",
       "    </tr>\n",
       "    <tr>\n",
       "      <th>46</th>\n",
       "      <td>0.04</td>\n",
       "      <td>(root_vegetables, whole_milk, other_vegetables)</td>\n",
       "    </tr>\n",
       "    <tr>\n",
       "      <th>47</th>\n",
       "      <td>0.04</td>\n",
       "      <td>(rollsbuns, sausage, soda)</td>\n",
       "    </tr>\n",
       "  </tbody>\n",
       "</table>\n",
       "</div>"
      ],
      "text/plain": [
       "    support                                         itemsets\n",
       "43     0.04                    (root_vegetables, whole_milk)\n",
       "44     0.04                                  (sausage, soda)\n",
       "45     0.04                    (curd, butter, bottled_water)\n",
       "46     0.04  (root_vegetables, whole_milk, other_vegetables)\n",
       "47     0.04                       (rollsbuns, sausage, soda)"
      ]
     },
     "execution_count": 32,
     "metadata": {},
     "output_type": "execute_result"
    }
   ],
   "source": [
    "# last five rows\n",
    "frequent_itemsets.tail(5)"
   ]
  },
  {
   "cell_type": "code",
   "execution_count": 33,
   "metadata": {},
   "outputs": [
    {
     "name": "stdout",
     "output_type": "stream",
     "text": [
      "44\n"
     ]
    },
    {
     "data": {
      "text/html": [
       "<div>\n",
       "<style scoped>\n",
       "    .dataframe tbody tr th:only-of-type {\n",
       "        vertical-align: middle;\n",
       "    }\n",
       "\n",
       "    .dataframe tbody tr th {\n",
       "        vertical-align: top;\n",
       "    }\n",
       "\n",
       "    .dataframe thead th {\n",
       "        text-align: right;\n",
       "    }\n",
       "</style>\n",
       "<table border=\"1\" class=\"dataframe\">\n",
       "  <thead>\n",
       "    <tr style=\"text-align: right;\">\n",
       "      <th></th>\n",
       "      <th>antecedents</th>\n",
       "      <th>consequents</th>\n",
       "      <th>antecedent support</th>\n",
       "      <th>consequent support</th>\n",
       "      <th>support</th>\n",
       "      <th>confidence</th>\n",
       "      <th>lift</th>\n",
       "      <th>leverage</th>\n",
       "      <th>conviction</th>\n",
       "    </tr>\n",
       "  </thead>\n",
       "  <tbody>\n",
       "    <tr>\n",
       "      <th>0</th>\n",
       "      <td>(bottled_water)</td>\n",
       "      <td>(butter)</td>\n",
       "      <td>0.16</td>\n",
       "      <td>0.08</td>\n",
       "      <td>0.04</td>\n",
       "      <td>0.25</td>\n",
       "      <td>3.125</td>\n",
       "      <td>0.0272</td>\n",
       "      <td>1.226667</td>\n",
       "    </tr>\n",
       "    <tr>\n",
       "      <th>1</th>\n",
       "      <td>(butter)</td>\n",
       "      <td>(bottled_water)</td>\n",
       "      <td>0.08</td>\n",
       "      <td>0.16</td>\n",
       "      <td>0.04</td>\n",
       "      <td>0.50</td>\n",
       "      <td>3.125</td>\n",
       "      <td>0.0272</td>\n",
       "      <td>1.680000</td>\n",
       "    </tr>\n",
       "    <tr>\n",
       "      <th>2</th>\n",
       "      <td>(curd)</td>\n",
       "      <td>(bottled_water)</td>\n",
       "      <td>0.04</td>\n",
       "      <td>0.16</td>\n",
       "      <td>0.04</td>\n",
       "      <td>1.00</td>\n",
       "      <td>6.250</td>\n",
       "      <td>0.0336</td>\n",
       "      <td>inf</td>\n",
       "    </tr>\n",
       "    <tr>\n",
       "      <th>3</th>\n",
       "      <td>(bottled_water)</td>\n",
       "      <td>(curd)</td>\n",
       "      <td>0.16</td>\n",
       "      <td>0.04</td>\n",
       "      <td>0.04</td>\n",
       "      <td>0.25</td>\n",
       "      <td>6.250</td>\n",
       "      <td>0.0336</td>\n",
       "      <td>1.280000</td>\n",
       "    </tr>\n",
       "    <tr>\n",
       "      <th>4</th>\n",
       "      <td>(bottled_water)</td>\n",
       "      <td>(other_vegetables)</td>\n",
       "      <td>0.16</td>\n",
       "      <td>0.20</td>\n",
       "      <td>0.04</td>\n",
       "      <td>0.25</td>\n",
       "      <td>1.250</td>\n",
       "      <td>0.0080</td>\n",
       "      <td>1.066667</td>\n",
       "    </tr>\n",
       "  </tbody>\n",
       "</table>\n",
       "</div>"
      ],
      "text/plain": [
       "       antecedents         consequents  antecedent support  \\\n",
       "0  (bottled_water)            (butter)                0.16   \n",
       "1         (butter)     (bottled_water)                0.08   \n",
       "2           (curd)     (bottled_water)                0.04   \n",
       "3  (bottled_water)              (curd)                0.16   \n",
       "4  (bottled_water)  (other_vegetables)                0.16   \n",
       "\n",
       "   consequent support  support  confidence   lift  leverage  conviction  \n",
       "0                0.08     0.04        0.25  3.125    0.0272    1.226667  \n",
       "1                0.16     0.04        0.50  3.125    0.0272    1.680000  \n",
       "2                0.16     0.04        1.00  6.250    0.0336         inf  \n",
       "3                0.04     0.04        0.25  6.250    0.0336    1.280000  \n",
       "4                0.20     0.04        0.25  1.250    0.0080    1.066667  "
      ]
     },
     "execution_count": 33,
     "metadata": {},
     "output_type": "execute_result"
    }
   ],
   "source": [
    "# printing out the association rules\n",
    "rules = association_rules(frequent_itemsets, metric=\"lift\", min_threshold=1)\n",
    "print(len(rules))\n",
    "rules.head()"
   ]
  },
  {
   "cell_type": "code",
   "execution_count": null,
   "metadata": {},
   "outputs": [],
   "source": []
  },
  {
   "cell_type": "code",
   "execution_count": null,
   "metadata": {},
   "outputs": [],
   "source": []
  },
  {
   "cell_type": "code",
   "execution_count": null,
   "metadata": {},
   "outputs": [],
   "source": []
  },
  {
   "cell_type": "code",
   "execution_count": null,
   "metadata": {},
   "outputs": [],
   "source": []
  },
  {
   "cell_type": "code",
   "execution_count": null,
   "metadata": {},
   "outputs": [],
   "source": []
  },
  {
   "cell_type": "code",
   "execution_count": null,
   "metadata": {},
   "outputs": [],
   "source": []
  },
  {
   "cell_type": "code",
   "execution_count": null,
   "metadata": {},
   "outputs": [],
   "source": []
  },
  {
   "cell_type": "code",
   "execution_count": null,
   "metadata": {},
   "outputs": [],
   "source": []
  },
  {
   "cell_type": "code",
   "execution_count": null,
   "metadata": {},
   "outputs": [],
   "source": []
  },
  {
   "cell_type": "code",
   "execution_count": null,
   "metadata": {},
   "outputs": [],
   "source": []
  },
  {
   "cell_type": "code",
   "execution_count": null,
   "metadata": {},
   "outputs": [],
   "source": []
  },
  {
   "cell_type": "code",
   "execution_count": 34,
   "metadata": {},
   "outputs": [],
   "source": [
    "## Trial Area"
   ]
  },
  {
   "cell_type": "code",
   "execution_count": 35,
   "metadata": {},
   "outputs": [],
   "source": [
    "# valu_counts.keys()"
   ]
  },
  {
   "cell_type": "code",
   "execution_count": 36,
   "metadata": {},
   "outputs": [],
   "source": [
    "# print(vectorizer.vocabulary_)"
   ]
  },
  {
   "cell_type": "code",
   "execution_count": 37,
   "metadata": {},
   "outputs": [],
   "source": [
    "# re.sub(pattern=\"\\W+\", repl=\"\", string=\"helo/world\")"
   ]
  },
  {
   "cell_type": "code",
   "execution_count": 38,
   "metadata": {},
   "outputs": [],
   "source": [
    "# for person in range(len(modified_df)):\n",
    "#     for x in modified_df[person]:\n",
    "#         if x in final_df.columns:\n",
    "#             final_df[x][person] = 1\n",
    "#         else:\n",
    "#             final_df[x][person] = 0"
   ]
  },
  {
   "cell_type": "code",
   "execution_count": 39,
   "metadata": {},
   "outputs": [],
   "source": [
    "# for person in range(len(modified_df)):\n",
    "#     for item in modified_df[person]:\n",
    "#         final_df[item][person] = 1\n",
    "# print(final_df)"
   ]
  },
  {
   "cell_type": "code",
   "execution_count": 40,
   "metadata": {},
   "outputs": [],
   "source": [
    "# valu_counts.values()"
   ]
  },
  {
   "cell_type": "code",
   "execution_count": 41,
   "metadata": {},
   "outputs": [],
   "source": [
    "# valu_counts = dict()\n",
    "# for x in item_set:\n",
    "#     valu_counts[x] = item_list.count(x)\n",
    "# print(valu_counts)"
   ]
  },
  {
   "cell_type": "code",
   "execution_count": 42,
   "metadata": {},
   "outputs": [],
   "source": [
    "# item_list = set(df['Item 1'])"
   ]
  },
  {
   "cell_type": "code",
   "execution_count": 43,
   "metadata": {},
   "outputs": [],
   "source": [
    "# item_set = set()\n",
    "# for col in df.columns[1:]:\n",
    "#     item_set = item_set.union(set(df[col]))\n",
    "# item_set"
   ]
  },
  {
   "cell_type": "code",
   "execution_count": 44,
   "metadata": {},
   "outputs": [],
   "source": [
    "# len(item_list)"
   ]
  },
  {
   "cell_type": "code",
   "execution_count": 45,
   "metadata": {},
   "outputs": [],
   "source": [
    "# len(item_set)"
   ]
  },
  {
   "cell_type": "code",
   "execution_count": 46,
   "metadata": {},
   "outputs": [],
   "source": [
    "# item_list"
   ]
  },
  {
   "cell_type": "code",
   "execution_count": 47,
   "metadata": {},
   "outputs": [],
   "source": [
    "# item_list = list()\n",
    "# for col in df.columns[1:]:\n",
    "#     item_list = item_list + [str(x) for x in list(df[col]) if x!='NaN']\n",
    "# item_list"
   ]
  },
  {
   "cell_type": "code",
   "execution_count": 48,
   "metadata": {},
   "outputs": [],
   "source": [
    "# association_rules = apriori(X, min_support=0.0045, min_length = 2)\n",
    "# association_results = list(association_rules)"
   ]
  },
  {
   "cell_type": "code",
   "execution_count": null,
   "metadata": {},
   "outputs": [],
   "source": []
  },
  {
   "cell_type": "code",
   "execution_count": null,
   "metadata": {},
   "outputs": [],
   "source": []
  },
  {
   "cell_type": "code",
   "execution_count": null,
   "metadata": {},
   "outputs": [],
   "source": []
  }
 ],
 "metadata": {
  "kernelspec": {
   "display_name": "Python 3",
   "language": "python",
   "name": "python3"
  },
  "language_info": {
   "codemirror_mode": {
    "name": "ipython",
    "version": 3
   },
   "file_extension": ".py",
   "mimetype": "text/x-python",
   "name": "python",
   "nbconvert_exporter": "python",
   "pygments_lexer": "ipython3",
   "version": "3.6.0"
  }
 },
 "nbformat": 4,
 "nbformat_minor": 2
}
